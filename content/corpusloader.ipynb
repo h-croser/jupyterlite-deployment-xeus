{
 "cells": [
  {
   "cell_type": "code",
   "execution_count": null,
   "id": "1c718d3cae1e6ba0",
   "metadata": {
    "collapsed": false
   },
   "outputs": [],
   "source": [
    "from corpusloader import CorpusLoader\n",
    "\n",
    "corpus_loader: CorpusLoader = CorpusLoader(\"./test_data\")\n",
    "corpus_loader.servable()"
   ]
  }
 ],
 "metadata": {
  "kernelspec": {
   "display_name": "Python 3 (ipykernel)",
   "language": "python",
   "name": "python3"
  },
  "language_info": {
   "codemirror_mode": {
    "name": "ipython",
    "version": 3
   },
   "file_extension": ".py",
   "mimetype": "text/x-python",
   "name": "python",
   "nbconvert_exporter": "python",
   "pygments_lexer": "ipython3",
   "version": "3.10.0"
  }
 },
 "nbformat": 4,
 "nbformat_minor": 5
}
